{
 "cells": [
  {
   "cell_type": "markdown",
   "id": "c090a58b",
   "metadata": {},
   "source": [
    "# Conceitos básicos de dados geográficos"
   ]
  },
  {
   "cell_type": "markdown",
   "id": "006ade06",
   "metadata": {},
   "source": [
    "Ao manipularmos dados de localização geográfica, a principal informação que se tem como base são as coordenadas de latitude e de longitude.<br>\n",
    "Intuitivamente, o primeiro tipo de dado geográfico no qual se pode pensar é no <b>ponto</b>.<br>\n",
    "O ponto nada mais é do que uma associação entre um valor de latitude e um valor de longitude, expresso sobre um sistema de coordenadas geográficas.<br>"
   ]
  },
  {
   "cell_type": "code",
   "execution_count": 1,
   "id": "3e665d4c",
   "metadata": {},
   "outputs": [],
   "source": [
    "import geopandas as gpd\n",
    "import pandas as pd"
   ]
  },
  {
   "cell_type": "code",
   "execution_count": null,
   "id": "4cbe1bce",
   "metadata": {},
   "outputs": [],
   "source": []
  }
 ],
 "metadata": {
  "kernelspec": {
   "display_name": "Python 3 (ipykernel)",
   "language": "python",
   "name": "python3"
  },
  "language_info": {
   "codemirror_mode": {
    "name": "ipython",
    "version": 3
   },
   "file_extension": ".py",
   "mimetype": "text/x-python",
   "name": "python",
   "nbconvert_exporter": "python",
   "pygments_lexer": "ipython3",
   "version": "3.8.12"
  }
 },
 "nbformat": 4,
 "nbformat_minor": 5
}
